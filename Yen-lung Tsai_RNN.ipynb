{
 "cells": [
  {
   "cell_type": "code",
   "execution_count": 1,
   "metadata": {},
   "outputs": [
    {
     "name": "stdout",
     "output_type": "stream",
     "text": [
      "env: KERAS_BACKEND=tensorflow\n"
     ]
    }
   ],
   "source": [
    "%env KERAS_BACKEND=tensorflow"
   ]
  },
  {
   "cell_type": "markdown",
   "metadata": {},
   "source": [
    "↓ 受過良好訓練這樣寫：）"
   ]
  },
  {
   "cell_type": "code",
   "execution_count": 2,
   "metadata": {
    "collapsed": true
   },
   "outputs": [],
   "source": [
    "%matplotlib inline\n",
    "\n",
    "import numpy as np\n",
    "import matplotlib.pyplot as plt\n",
    "import pandas as pd"
   ]
  },
  {
   "cell_type": "code",
   "execution_count": 3,
   "metadata": {},
   "outputs": [
    {
     "name": "stderr",
     "output_type": "stream",
     "text": [
      "Using TensorFlow backend.\n"
     ]
    }
   ],
   "source": [
    "from keras.datasets import imdb"
   ]
  },
  {
   "cell_type": "code",
   "execution_count": 16,
   "metadata": {
    "collapsed": true
   },
   "outputs": [],
   "source": [
    "(x_train, y_train), (x_test, y_test) = imdb.load_data(num_words=10000)"
   ]
  },
  {
   "cell_type": "code",
   "execution_count": 5,
   "metadata": {},
   "outputs": [
    {
     "data": {
      "text/plain": [
       "25000"
      ]
     },
     "execution_count": 5,
     "metadata": {},
     "output_type": "execute_result"
    }
   ],
   "source": [
    "len(x_train)"
   ]
  },
  {
   "cell_type": "code",
   "execution_count": 6,
   "metadata": {},
   "outputs": [
    {
     "data": {
      "text/plain": [
       "25000"
      ]
     },
     "execution_count": 6,
     "metadata": {},
     "output_type": "execute_result"
    }
   ],
   "source": [
    "len(x_test)"
   ]
  },
  {
   "cell_type": "code",
   "execution_count": 7,
   "metadata": {},
   "outputs": [
    {
     "data": {
      "text/plain": [
       "[1,\n",
       " 61,\n",
       " 795,\n",
       " 203,\n",
       " 30,\n",
       " 6,\n",
       " 227,\n",
       " 7,\n",
       " 6,\n",
       " 1361,\n",
       " 18,\n",
       " 51,\n",
       " 45,\n",
       " 290,\n",
       " 570,\n",
       " 150,\n",
       " 48,\n",
       " 25,\n",
       " 459,\n",
       " 195,\n",
       " 10,\n",
       " 10,\n",
       " 1907,\n",
       " 1698,\n",
       " 144,\n",
       " 28,\n",
       " 77,\n",
       " 3670,\n",
       " 6,\n",
       " 2300,\n",
       " 1523,\n",
       " 1338,\n",
       " 18,\n",
       " 154,\n",
       " 698,\n",
       " 372,\n",
       " 8,\n",
       " 79,\n",
       " 312,\n",
       " 23,\n",
       " 268,\n",
       " 14,\n",
       " 22,\n",
       " 9,\n",
       " 995,\n",
       " 4,\n",
       " 8171,\n",
       " 228,\n",
       " 9,\n",
       " 35,\n",
       " 8236,\n",
       " 17,\n",
       " 26,\n",
       " 4,\n",
       " 578,\n",
       " 5323,\n",
       " 3729,\n",
       " 15,\n",
       " 2,\n",
       " 1719,\n",
       " 56,\n",
       " 8,\n",
       " 931,\n",
       " 23,\n",
       " 4,\n",
       " 1321,\n",
       " 1103,\n",
       " 11,\n",
       " 4,\n",
       " 1749,\n",
       " 18,\n",
       " 463,\n",
       " 449,\n",
       " 13,\n",
       " 79,\n",
       " 12,\n",
       " 14,\n",
       " 9,\n",
       " 691,\n",
       " 6,\n",
       " 8338,\n",
       " 5,\n",
       " 7524,\n",
       " 20,\n",
       " 93,\n",
       " 3084,\n",
       " 34,\n",
       " 94,\n",
       " 2,\n",
       " 631,\n",
       " 956,\n",
       " 5,\n",
       " 4905,\n",
       " 2,\n",
       " 3981,\n",
       " 671,\n",
       " 8,\n",
       " 2,\n",
       " 1426,\n",
       " 23,\n",
       " 35,\n",
       " 311,\n",
       " 772,\n",
       " 41,\n",
       " 544,\n",
       " 584,\n",
       " 13,\n",
       " 100,\n",
       " 1227,\n",
       " 842,\n",
       " 4,\n",
       " 1588,\n",
       " 120,\n",
       " 33,\n",
       " 312,\n",
       " 211,\n",
       " 3413,\n",
       " 5611,\n",
       " 68,\n",
       " 2,\n",
       " 120,\n",
       " 4,\n",
       " 4197,\n",
       " 2,\n",
       " 15,\n",
       " 2,\n",
       " 14,\n",
       " 431,\n",
       " 249,\n",
       " 136,\n",
       " 776,\n",
       " 4905,\n",
       " 1027,\n",
       " 8,\n",
       " 2,\n",
       " 41,\n",
       " 2,\n",
       " 2,\n",
       " 23,\n",
       " 4,\n",
       " 890,\n",
       " 7,\n",
       " 1316,\n",
       " 11,\n",
       " 6,\n",
       " 2,\n",
       " 428,\n",
       " 2727,\n",
       " 1735,\n",
       " 24,\n",
       " 163,\n",
       " 24,\n",
       " 204,\n",
       " 24,\n",
       " 221,\n",
       " 24,\n",
       " 6,\n",
       " 52,\n",
       " 20,\n",
       " 4,\n",
       " 693,\n",
       " 241,\n",
       " 675,\n",
       " 9,\n",
       " 4,\n",
       " 959,\n",
       " 7,\n",
       " 2,\n",
       " 120,\n",
       " 9719,\n",
       " 92,\n",
       " 437,\n",
       " 129,\n",
       " 58]"
      ]
     },
     "execution_count": 7,
     "metadata": {},
     "output_type": "execute_result"
    }
   ],
   "source": [
    "x_train[87]"
   ]
  },
  {
   "cell_type": "code",
   "execution_count": 8,
   "metadata": {},
   "outputs": [
    {
     "name": "stdout",
     "output_type": "stream",
     "text": [
      "218, 189, 141, 550, 147, 43, 123, 562, 233, 130, "
     ]
    }
   ],
   "source": [
    "# 看前10筆評論的長度\n",
    "for i in range(10):\n",
    "    print(len(x_train[i]), end=', ')"
   ]
  },
  {
   "cell_type": "code",
   "execution_count": 12,
   "metadata": {},
   "outputs": [
    {
     "data": {
      "text/plain": [
       "25000.0"
      ]
     },
     "execution_count": 12,
     "metadata": {},
     "output_type": "execute_result"
    }
   ],
   "source": [
    "#? np.mean(len(x_train))"
   ]
  },
  {
   "cell_type": "markdown",
   "metadata": {},
   "source": [
    "**！送進去Keras長度必須一樣**"
   ]
  },
  {
   "cell_type": "code",
   "execution_count": 17,
   "metadata": {
    "collapsed": true
   },
   "outputs": [],
   "source": [
    "from keras.preprocessing import sequence"
   ]
  },
  {
   "cell_type": "code",
   "execution_count": 18,
   "metadata": {
    "collapsed": true
   },
   "outputs": [],
   "source": [
    "x_train = sequence.pad_sequences(x_train, maxlen=250)\n",
    "x_test = sequence.pad_sequences(x_test, maxlen=250)"
   ]
  },
  {
   "cell_type": "code",
   "execution_count": 19,
   "metadata": {},
   "outputs": [
    {
     "name": "stdout",
     "output_type": "stream",
     "text": [
      "250, 250, 250, 250, 250, 250, 250, 250, 250, 250, "
     ]
    }
   ],
   "source": [
    "for i in range(10):\n",
    "    print(len(x_train[i]), end=', ')"
   ]
  },
  {
   "cell_type": "code",
   "execution_count": 20,
   "metadata": {
    "collapsed": true
   },
   "outputs": [],
   "source": [
    "# x_trash = sequence.pad_sequences(x_train, maxlen=150)"
   ]
  },
  {
   "cell_type": "code",
   "execution_count": 21,
   "metadata": {},
   "outputs": [
    {
     "data": {
      "text/plain": [
       "(25000, 250)"
      ]
     },
     "execution_count": 21,
     "metadata": {},
     "output_type": "execute_result"
    }
   ],
   "source": [
    "x_train.shape"
   ]
  },
  {
   "cell_type": "code",
   "execution_count": 22,
   "metadata": {},
   "outputs": [
    {
     "data": {
      "text/plain": [
       "array([   0,    0,    0,    0,    0,    0,    0,    0,    0,    0,    0,\n",
       "          0,    0,    0,    0,    0,    0,    0,    0,    0,    0,    0,\n",
       "          0,    0,    0,    0,    0,    0,    0,    0,    0,    0,    0,\n",
       "          0,    0,    0,    0,    0,    0,    0,    0,    0,    0,    0,\n",
       "          0,    0,    0,    0,    0,    0,    0,    0,    0,    0,    0,\n",
       "          0,    0,    0,    0,    0,    0,    0,    0,    0,    0,    0,\n",
       "          0,    0,    0,    0,    0,    0,    0,    0,    0,    0,    1,\n",
       "         61,  795,  203,   30,    6,  227,    7,    6, 1361,   18,   51,\n",
       "         45,  290,  570,  150,   48,   25,  459,  195,   10,   10, 1907,\n",
       "       1698,  144,   28,   77, 3670,    6, 2300, 1523, 1338,   18,  154,\n",
       "        698,  372,    8,   79,  312,   23,  268,   14,   22,    9,  995,\n",
       "          4, 8171,  228,    9,   35, 8236,   17,   26,    4,  578, 5323,\n",
       "       3729,   15,    2, 1719,   56,    8,  931,   23,    4, 1321, 1103,\n",
       "         11,    4, 1749,   18,  463,  449,   13,   79,   12,   14,    9,\n",
       "        691,    6, 8338,    5, 7524,   20,   93, 3084,   34,   94,    2,\n",
       "        631,  956,    5, 4905,    2, 3981,  671,    8,    2, 1426,   23,\n",
       "         35,  311,  772,   41,  544,  584,   13,  100, 1227,  842,    4,\n",
       "       1588,  120,   33,  312,  211, 3413, 5611,   68,    2,  120,    4,\n",
       "       4197,    2,   15,    2,   14,  431,  249,  136,  776, 4905, 1027,\n",
       "          8,    2,   41,    2,    2,   23,    4,  890,    7, 1316,   11,\n",
       "          6,    2,  428, 2727, 1735,   24,  163,   24,  204,   24,  221,\n",
       "         24,    6,   52,   20,    4,  693,  241,  675,    9,    4,  959,\n",
       "          7,    2,  120, 9719,   92,  437,  129,   58], dtype=int32)"
      ]
     },
     "execution_count": 22,
     "metadata": {},
     "output_type": "execute_result"
    }
   ],
   "source": [
    "x_train[87]"
   ]
  },
  {
   "cell_type": "code",
   "execution_count": 23,
   "metadata": {
    "collapsed": true
   },
   "outputs": [],
   "source": [
    "from keras.models import Sequential\n",
    "from keras.layers import Dense, Embedding\n",
    "from keras.layers import LSTM"
   ]
  },
  {
   "cell_type": "code",
   "execution_count": 24,
   "metadata": {
    "collapsed": true
   },
   "outputs": [],
   "source": [
    "model = Sequential()"
   ]
  },
  {
   "cell_type": "code",
   "execution_count": 25,
   "metadata": {
    "collapsed": true
   },
   "outputs": [],
   "source": [
    "model.add(Embedding(10000, 128))"
   ]
  },
  {
   "cell_type": "code",
   "execution_count": 26,
   "metadata": {
    "collapsed": true
   },
   "outputs": [],
   "source": [
    "model.add(LSTM(150))"
   ]
  },
  {
   "cell_type": "code",
   "execution_count": 27,
   "metadata": {
    "collapsed": true
   },
   "outputs": [],
   "source": [
    "model.add(Dense(1, activation='sigmoid'))"
   ]
  },
  {
   "cell_type": "code",
   "execution_count": 28,
   "metadata": {
    "collapsed": true
   },
   "outputs": [],
   "source": [
    "model.compile(loss='binary_crossentropy',\n",
    "             optimizer='adam',\n",
    "             metrics=['accuracy'])"
   ]
  },
  {
   "cell_type": "code",
   "execution_count": 29,
   "metadata": {},
   "outputs": [
    {
     "name": "stdout",
     "output_type": "stream",
     "text": [
      "_________________________________________________________________\n",
      "Layer (type)                 Output Shape              Param #   \n",
      "=================================================================\n",
      "embedding_1 (Embedding)      (None, None, 128)         1280000   \n",
      "_________________________________________________________________\n",
      "lstm_1 (LSTM)                (None, 150)               167400    \n",
      "_________________________________________________________________\n",
      "dense_1 (Dense)              (None, 1)                 151       \n",
      "=================================================================\n",
      "Total params: 1,447,551\n",
      "Trainable params: 1,447,551\n",
      "Non-trainable params: 0\n",
      "_________________________________________________________________\n"
     ]
    }
   ],
   "source": [
    "model.summary()"
   ]
  },
  {
   "cell_type": "code",
   "execution_count": null,
   "metadata": {
    "collapsed": true
   },
   "outputs": [],
   "source": [
    "from keras.utils import plot_model\n",
    "plot_model(model, show_shapes=True, to_file='rnn.png')"
   ]
  },
  {
   "cell_type": "markdown",
   "metadata": {},
   "source": [
    "![My first RNN](rnn.png)"
   ]
  },
  {
   "cell_type": "code",
   "execution_count": 30,
   "metadata": {},
   "outputs": [
    {
     "name": "stdout",
     "output_type": "stream",
     "text": [
      "Epoch 1/2\n",
      "25000/25000 [==============================] - 316s 13ms/step - loss: 0.4401 - acc: 0.7938\n",
      "Epoch 2/2\n",
      "25000/25000 [==============================] - 351s 14ms/step - loss: 0.2571 - acc: 0.8974\n"
     ]
    },
    {
     "data": {
      "text/plain": [
       "<keras.callbacks.History at 0x182b8bcd68>"
      ]
     },
     "execution_count": 30,
     "metadata": {},
     "output_type": "execute_result"
    }
   ],
   "source": [
    "model.fit(x_train, y_train,\n",
    "          batch_size=32,\n",
    "          epochs=2)"
   ]
  },
  {
   "cell_type": "code",
   "execution_count": 31,
   "metadata": {},
   "outputs": [
    {
     "name": "stdout",
     "output_type": "stream",
     "text": [
      "25000/25000 [==============================] - 76s 3ms/step\n"
     ]
    }
   ],
   "source": [
    "score = model.evaluate(x_test, y_test)"
   ]
  },
  {
   "cell_type": "code",
   "execution_count": 32,
   "metadata": {},
   "outputs": [
    {
     "name": "stdout",
     "output_type": "stream",
     "text": [
      "loss: 0.475064203625\n",
      "acc: 0.77216\n"
     ]
    }
   ],
   "source": [
    "print(\"loss:\", score[0])\n",
    "print(\"acc:\", score[1])"
   ]
  },
  {
   "cell_type": "code",
   "execution_count": 33,
   "metadata": {
    "collapsed": true
   },
   "outputs": [],
   "source": [
    "x = np.linspace(-5,10,200)"
   ]
  },
  {
   "cell_type": "code",
   "execution_count": 34,
   "metadata": {
    "collapsed": true
   },
   "outputs": [],
   "source": [
    "lamba = 1.050700987\n",
    "alpha = 1.673263242"
   ]
  },
  {
   "cell_type": "code",
   "execution_count": 35,
   "metadata": {
    "collapsed": true
   },
   "outputs": [],
   "source": [
    "x0 = x[x<=0]\n",
    "x1 = x[x>0]"
   ]
  },
  {
   "cell_type": "code",
   "execution_count": 36,
   "metadata": {
    "collapsed": true
   },
   "outputs": [],
   "source": [
    "y0 = lamba * (alpha*np.exp(x0)-alpha)"
   ]
  },
  {
   "cell_type": "code",
   "execution_count": 37,
   "metadata": {
    "collapsed": true
   },
   "outputs": [],
   "source": [
    "y1 = lamba * x1"
   ]
  },
  {
   "cell_type": "code",
   "execution_count": 38,
   "metadata": {},
   "outputs": [
    {
     "data": {
      "image/png": "[encoded data removed]",
      "text/plain": [
       "<matplotlib.figure.Figure at 0x118d79d68>"
      ]
     },
     "metadata": {},
     "output_type": "display_data"
    }
   ],
   "source": [
    "plt.plot(x0, y0, 'b')\n",
    "plt.plot(x1, y1, 'b')\n",
    "plt.show()"
   ]
  },
  {
   "cell_type": "code",
   "execution_count": 39,
   "metadata": {
    "collapsed": true
   },
   "outputs": [],
   "source": [
    "x = np.linspace(0,10,200)\n",
    "y = np.sin(x) + 0.3*np.random.randn(200)"
   ]
  },
  {
   "cell_type": "code",
   "execution_count": 40,
   "metadata": {},
   "outputs": [
    {
     "data": {
      "text/plain": [
       "<matplotlib.collections.PathCollection at 0x182b6f6898>"
      ]
     },
     "execution_count": 40,
     "metadata": {},
     "output_type": "execute_result"
    },
    {
     "data": {
      "image/png": "[encoded data removed]",
      "text/plain": [
       "<matplotlib.figure.Figure at 0x10fc879e8>"
      ]
     },
     "metadata": {},
     "output_type": "display_data"
    }
   ],
   "source": [
    "plt.scatter(x,y)"
   ]
  },
  {
   "cell_type": "code",
   "execution_count": null,
   "metadata": {
    "collapsed": true
   },
   "outputs": [],
   "source": []
  }
 ],
 "metadata": {
  "kernelspec": {
   "display_name": "Python 3",
   "language": "python",
   "name": "python3"
  },
  "language_info": {
   "codemirror_mode": {
    "name": "ipython",
    "version": 3
   },
   "file_extension": ".py",
   "mimetype": "text/x-python",
   "name": "python",
   "nbconvert_exporter": "python",
   "pygments_lexer": "ipython3",
   "version": "3.6.3"
  }
 },
 "nbformat": 4,
 "nbformat_minor": 2
}
